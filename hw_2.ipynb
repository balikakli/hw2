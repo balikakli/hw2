{
 "cells": [
  {
   "cell_type": "markdown",
   "metadata": {},
   "source": [
    "### Question 1"
   ]
  },
  {
   "cell_type": "code",
   "execution_count": 201,
   "metadata": {
    "collapsed": false,
    "scrolled": true
   },
   "outputs": [
    {
     "data": {
      "text/plain": [
       "[<matplotlib.lines.Line2D at 0x112225860>]"
      ]
     },
     "execution_count": 201,
     "metadata": {},
     "output_type": "execute_result"
    },
    {
     "data": {
      "image/png": "[encoded data removed]",
      "text/plain": [
       "<matplotlib.figure.Figure at 0x108437e10>"
      ]
     },
     "metadata": {},
     "output_type": "display_data"
    }
   ],
   "source": [
    "%matplotlib inline\n",
    "import numpy as np\n",
    "import matplotlib.pyplot as plt\n",
    "\n",
    "x1=[]\n",
    "x2=[]\n",
    "\n",
    "fh=open(\"hw_2_data.txt\")\n",
    "for line in fh:\n",
    "    temp=line.split(\" \")\n",
    "    x1.append(temp[0].strip())\n",
    "    x2.append(temp[1].strip())\n",
    "    \n",
    "plt.axis('equal')\n",
    "plt.plot(x1,x2, '.m')"
   ]
  },
  {
   "cell_type": "markdown",
   "metadata": {},
   "source": [
    "### Question 2\n",
    "\n",
    "We propose that $x1$ is drawn uniformly from $[4,6]$ interval with normal error and $x2$ is drawn from corresponding ellipse given with the equation $x^2+\\frac{y^2}{2}=1$, with uniform error. The reason we use normal error in $x1$ and uniform error in $x2$ is that $x1$ values rarely exceed $[4,6]$ interval, whereas $x2$ values never exceed $[2,8]$ interval. We let $x1$ values diverge both inwards and outwards, $x2$ values only inwards."
   ]
  },
  {
   "cell_type": "markdown",
   "metadata": {},
   "source": [
    "### Question 3\n",
    "\n",
    "We draw with the error for $x$ and $y$ scaled $1/8$ and $1/15$, respectively."
   ]
  },
  {
   "cell_type": "code",
   "execution_count": 214,
   "metadata": {
    "collapsed": false,
    "scrolled": true
   },
   "outputs": [
    {
     "name": "stdout",
     "output_type": "stream",
     "text": [
      "x =  [ 5.54191095  5.02771827  5.33904471  5.28035208  5.53459671  5.76047216\n",
      "  4.47047244  3.91361138  5.15248988  5.45228639  4.78292072  5.09863537\n",
      "  4.4353185   4.43328396  4.91841492  4.4888198   4.78380079  5.88130197\n",
      "  4.01777219  5.83160122  4.16335499  5.40109778  5.58837896  4.73665257\n",
      "  5.34713932  5.85792022  5.6296994   4.81675155  4.83764051  4.53675487\n",
      "  4.7829351   5.40062655  4.27336596  4.34767379  5.04234537  5.61500695\n",
      "  5.90172178  4.90558674  5.48009749  4.28431119  4.93610759  5.95154646\n",
      "  5.73921881  5.57861207  5.95857138  6.02298362  5.64282969  5.37536939\n",
      "  5.77962728  5.12029934  4.40500271  4.53973442  4.93309079  5.94907159\n",
      "  5.28628642  5.77102999  5.66287893  5.30785399  4.32482481  5.35385848\n",
      "  4.46074609  5.7164018   5.69008488  5.42274442  4.10058848  4.63584521\n",
      "  4.39553911  4.8947815   5.21786973  5.61104148  5.55397257  4.36916711\n",
      "  4.9414372   5.19515396  5.73983946  5.32126779  4.70531763  5.19732352\n",
      "  5.61604231  5.30109187  5.7642115   5.79219322  4.19525921  4.44397311\n",
      "  4.11583562  5.41780934  4.01434553  4.90786585  4.42966749  4.60541594\n",
      "  3.84356522  4.70929501  4.71215942  5.95842682  5.74900689  5.05215755\n",
      "  4.45979084  5.65009021  4.59941263  5.92514204] \n",
      " y =  [ 3.28627837  7.54174055  2.67008646  2.44580373  6.67254433  6.75466996\n",
      "  2.55041584  4.57881541  2.43171168  2.53315148  7.44912694  7.63661627\n",
      "  6.66999446  3.04974191  2.40596349  3.01500193  7.32217088  6.26700648\n",
      "  3.69496864  6.76012261  6.02233123  2.60730445  2.6136883   2.44275412\n",
      "  7.46756451  4.13404271  2.84770415  2.42886211  7.56887985  7.50035514\n",
      "  2.35361741  2.5402379   6.90205606  3.12851915  2.45251714  2.79574361\n",
      "  6.96716089  7.65542935  2.81670033  6.75552336  7.6048013   4.18792847\n",
      "  2.69518539  6.70171167  3.35817136  3.791551    7.34766005  7.47477807\n",
      "  3.01652355  2.38067174  2.91998643  2.54732277  2.43778557  5.64959043\n",
      "  2.51655889  5.97225445  7.1224067   2.41552913  7.04055296  7.40068454\n",
      "  7.28740469  6.31311239  6.75686256  2.87102872  4.20592329  7.30356332\n",
      "  6.85064022  7.58620826  2.60788783  2.55374731  7.11852094  7.32185416\n",
      "  7.63998773  2.67177841  3.69978195  7.2875579   2.62514015  2.34256372\n",
      "  2.89539862  7.43179906  6.51412437  6.76502941  3.50071413  2.75739808\n",
      "  4.17398806  7.28951474  3.68194147  7.5734908   3.07118712  7.24651973\n",
      "  6.13784123  2.61234285  2.74592226  4.71163893  6.86795038  2.38941291\n",
      "  7.38169635  7.02858545  7.0797873   6.39770637]\n"
     ]
    }
   ],
   "source": [
    "%matplotlib inline\n",
    "import numpy as np\n",
    "import matplotlib.pyplot as plt\n",
    "\n",
    "N = 100        #sample size\n",
    "p=1            #power\n",
    "scale_x=1/8    #noise scaling parameter for x\n",
    "scale_y=1/15   #noise scaling parameter for x\n",
    "\n",
    "kernel = np.random.rand(N)\n",
    "noise_x = np.random.randn(N)*scale_x       #generate noise for x\n",
    "noise_y = np.random.rand(N)*scale_y        #generate noise for y\n",
    "sign_x=np.sign(np.random.randn(N))         #generate random sign for x\n",
    "sign_y=np.sign(np.random.randn(N))         #generate random sign for y\n",
    "\n",
    "x=kernel**p                                #generate x from kernel\n",
    "y=np.sqrt(4*(1-kernel**2))                 #generate y from kernel\n",
    "x+=noise_x                                 #add noise to x\n",
    "y-=noise_y                                 #add noise to y\n",
    "x*=sign_x                                  #appoint a random sign to x to cover all 4 quadrants\n",
    "y*=sign_y                                  #appoint a random sign to y to cover all 4 quadrants\n",
    "x+=5                                       #shift the graph right\n",
    "y=y*4/3+5                                  #scale the graph and shift up\n",
    "\n",
    "print(\"x = \",x,\"\\n y = \",y)"
   ]
  },
  {
   "cell_type": "markdown",
   "metadata": {},
   "source": [
    "### Question 4\n",
    "\n",
    "We first draw the ellipse without the error (i.e. both errors are scaled with $0$)."
   ]
  },
  {
   "cell_type": "code",
   "execution_count": 154,
   "metadata": {
    "collapsed": false
   },
   "outputs": [
    {
     "data": {
      "text/plain": [
       "[<matplotlib.lines.Line2D at 0x10f9c3400>]"
      ]
     },
     "execution_count": 154,
     "metadata": {},
     "output_type": "execute_result"
    },
    {
     "data": {
      "image/png": "[encoded data removed]",
      "text/plain": [
       "<matplotlib.figure.Figure at 0x10f9c33c8>"
      ]
     },
     "metadata": {},
     "output_type": "display_data"
    }
   ],
   "source": [
    "%matplotlib inline\n",
    "import numpy as np\n",
    "import matplotlib.pyplot as plt\n",
    "\n",
    "N = 100     #sample size\n",
    "p=1         #power\n",
    "scale_x=0   #noise scaling parameter for x\n",
    "scale_y=0   #noise scaling parameter for x\n",
    "\n",
    "kernel = np.random.rand(N)\n",
    "noise_x = np.random.randn(N)*scale_x       #generate noise for x\n",
    "noise_y = np.random.rand(N)*scale_y        #generate noise for y\n",
    "sign_x=np.sign(np.random.randn(N))         #generate random sign for x\n",
    "sign_y=np.sign(np.random.randn(N))         #generate random sign for y\n",
    "\n",
    "x=kernel**p                                #generate x from kernel\n",
    "y=np.sqrt(4*(1-kernel**2))                 #generate y from kernel\n",
    "x+=noise_x                                 #add noise to x\n",
    "y-=noise_y                                 #add noise to y\n",
    "x*=sign_x                                  #appoint a random sign to x to cover all 4 quadrants\n",
    "y*=sign_y                                  #appoint a random sign to y to cover all 4 quadrants\n",
    "x+=5                                       #shift the graph right\n",
    "y=y*4/3+5                                  #scale the graph and shift up\n",
    "\n",
    "#print(x,y)\n",
    "\n",
    "plt.axis('equal')\n",
    "plt.plot(x,y, '.m')"
   ]
  },
  {
   "cell_type": "markdown",
   "metadata": {},
   "source": [
    "Then, we demonstrate two different scaling values of the error. In the first figure we scale the normal error for x with 1/20 and uniform error of y with 1/6. In the second figure, we scale with 1/8 and 1/15, respectively."
   ]
  },
  {
   "cell_type": "code",
   "execution_count": 155,
   "metadata": {
    "collapsed": false
   },
   "outputs": [
    {
     "data": {
      "text/plain": [
       "[<matplotlib.lines.Line2D at 0x10f9f9e48>]"
      ]
     },
     "execution_count": 155,
     "metadata": {},
     "output_type": "execute_result"
    },
    {
     "data": {
      "image/png": "[encoded data removed]",
      "text/plain": [
       "<matplotlib.figure.Figure at 0x10f9f90f0>"
      ]
     },
     "metadata": {},
     "output_type": "display_data"
    }
   ],
   "source": [
    "%matplotlib inline\n",
    "import numpy as np\n",
    "import matplotlib.pyplot as plt\n",
    "\n",
    "N = 100        #sample size\n",
    "p=1            #power\n",
    "scale_x=1/20   #noise scaling parameter for x\n",
    "scale_y=1/6    #noise scaling parameter for x\n",
    "\n",
    "kernel = np.random.rand(N)\n",
    "noise_x = np.random.randn(N)*scale_x       #generate noise for x\n",
    "noise_y = np.random.rand(N)*scale_y        #generate noise for y\n",
    "sign_x=np.sign(np.random.randn(N))         #generate random sign for x\n",
    "sign_y=np.sign(np.random.randn(N))         #generate random sign for y\n",
    "\n",
    "x=kernel**p                                #generate x from kernel\n",
    "y=np.sqrt(4*(1-kernel**2))                 #generate y from kernel\n",
    "x+=noise_x                                 #add noise to x\n",
    "y-=noise_y                                 #add noise to y\n",
    "x*=sign_x                                  #appoint a random sign to x to cover all 4 quadrants\n",
    "y*=sign_y                                  #appoint a random sign to y to cover all 4 quadrants\n",
    "x+=5                                       #shift the graph right\n",
    "y=y*4/3+5                                  #scale the graph and shift up\n",
    "\n",
    "#print(x,y)\n",
    "\n",
    "plt.axis('equal')\n",
    "plt.plot(x,y, '.m')"
   ]
  },
  {
   "cell_type": "code",
   "execution_count": 159,
   "metadata": {
    "collapsed": false
   },
   "outputs": [
    {
     "data": {
      "text/plain": [
       "[<matplotlib.lines.Line2D at 0x10fc52278>]"
      ]
     },
     "execution_count": 159,
     "metadata": {},
     "output_type": "execute_result"
    },
    {
     "data": {
      "image/png": "[encoded data removed]",
      "text/plain": [
       "<matplotlib.figure.Figure at 0x10fb2a9e8>"
      ]
     },
     "metadata": {},
     "output_type": "display_data"
    }
   ],
   "source": [
    "%matplotlib inline\n",
    "import numpy as np\n",
    "import matplotlib.pyplot as plt\n",
    "\n",
    "N = 100        #sample size\n",
    "p=1            #power\n",
    "scale_x=1/8    #noise scaling parameter for x\n",
    "scale_y=1/15   #noise scaling parameter for x\n",
    "\n",
    "kernel = np.random.rand(N)\n",
    "noise_x = np.random.randn(N)*scale_x       #generate noise for x\n",
    "noise_y = np.random.rand(N)*scale_y        #generate noise for y\n",
    "sign_x=np.sign(np.random.randn(N))         #generate random sign for x\n",
    "sign_y=np.sign(np.random.randn(N))         #generate random sign for y\n",
    "\n",
    "x=kernel**p                                #generate x from kernel\n",
    "y=np.sqrt(4*(1-kernel**2))                 #generate y from kernel\n",
    "x+=noise_x                                 #add noise to x\n",
    "y-=noise_y                                 #add noise to y\n",
    "x*=sign_x                                  #appoint a random sign to x to cover all 4 quadrants\n",
    "y*=sign_y                                  #appoint a random sign to y to cover all 4 quadrants\n",
    "x+=5                                       #shift the graph right\n",
    "y=y*4/3+5                                  #scale the graph and shift up\n",
    "\n",
    "#print(x,y)\n",
    "\n",
    "plt.axis('equal')\n",
    "plt.plot(x,y, '.m')"
   ]
  },
  {
   "cell_type": "markdown",
   "metadata": {},
   "source": [
    "###Question 5\n",
    "\n",
    "We can look at the samples' correlation for the symmetric difference. Alternatively we can take the dataset as the original, and look at the non-symmetric difference with Kullback-Liebler divergence."
   ]
  }
 ],
 "metadata": {
  "kernelspec": {
   "display_name": "Python 3",
   "language": "python",
   "name": "python3"
  },
  "language_info": {
   "codemirror_mode": {
    "name": "ipython",
    "version": 3
   },
   "file_extension": ".py",
   "mimetype": "text/x-python",
   "name": "python",
   "nbconvert_exporter": "python",
   "pygments_lexer": "ipython3",
   "version": "3.5.1"
  }
 },
 "nbformat": 4,
 "nbformat_minor": 0
}
